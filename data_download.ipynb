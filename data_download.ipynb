{
 "cells": [
  {
   "cell_type": "markdown",
   "metadata": {},
   "source": [
    "### Az adatok letöltése 00/01 - 19/20\n",
    "A vizsgált csapat: Liverpool"
   ]
  },
  {
   "cell_type": "code",
   "execution_count": null,
   "metadata": {},
   "outputs": [],
   "source": [
    "import requests\n",
    "from bs4 import BeautifulSoup\n",
    "import random\n",
    "import pandas as pd\n",
    "import numpy as np\n",
    "from tqdm import tqdm\n",
    "from io import StringIO\n",
    "from datetime import datetime"
   ]
  },
  {
   "cell_type": "code",
   "execution_count": null,
   "metadata": {},
   "outputs": [],
   "source": [
    "USER_AGENTS = [\n",
    "    'Mozilla/5.0 (Windows NT 6.2; Win64; x64) AppleWebKit/537.36 (KHTML, like Gecko) Chrome/32.0.1667.0 Safari/537.36',\n",
    "    'Mozilla/5.0 (Windows NT 6.1; Win64; x64; rv:25.0) Gecko/20100101 Firefox/25.0',\n",
    "    'Opera/9.80 (Windows NT 6.0) Presto/2.12.388 Version/12.14',\n",
    "    ('Mozilla/5.0 (iPad; CPU OS 6_0 like Mac OS X) AppleWebKit/536.26 (KHTML, like Gecko) '\n",
    "     'Version/6.0 Mobile/10A5355d Safari/8536.25'),\n",
    "    ('Mozilla/5.0 (compatible; MSIE 10.6; Windows NT 6.1; Trident/5.0; InfoPath.2; SLCC1; '\n",
    "     '.NET CLR 3.0.4506.2152; .NET CLR 3.5.30729; .NET CLR 2.0.50727) 3gpp-gba UNTRUSTED/1.0'),\n",
    "]\n",
    "\n",
    "def get_header(agents):\n",
    "    return {'User-agent': random.choice(agents)}"
   ]
  },
  {
   "cell_type": "code",
   "execution_count": null,
   "metadata": {},
   "outputs": [],
   "source": [
    "url = 'https://www.football-data.co.uk/englandm.php'\n",
    "response = requests.get(url, headers=get_header(USER_AGENTS))"
   ]
  },
  {
   "cell_type": "code",
   "execution_count": null,
   "metadata": {},
   "outputs": [],
   "source": [
    "base = 'https://www.football-data.co.uk/'\n",
    "soup = BeautifulSoup(response.content, 'html.parser')\n",
    "urls = [base+url.get('href') for url in soup.find_all('a') if 'Premier League' in url.get_text()]"
   ]
  },
  {
   "cell_type": "code",
   "execution_count": null,
   "metadata": {},
   "outputs": [],
   "source": [
    "names = {\n",
    "    'Date': 'date',\n",
    "    'HomeTeam': 'HOME',\n",
    "    'AwayTeam': 'AWAY',\n",
    "    'FTHG':'H_goals',\n",
    "    'FTAG':'A_goals',\n",
    "    'HTHG':'H_half_time_goals',\n",
    "    'HTAG':'A_half_time_goals',\n",
    "    'HS':'H_shots',\n",
    "    'AS':'A_shots',\n",
    "    'HST':'H_shots_on_target',\n",
    "    'AST':'A_shots_on_target',\n",
    "    'HC':'H_corners',\n",
    "    'AC':'A_corners',\n",
    "    'HF':'H_fouls_committed',\n",
    "    'AF':'A_fouls_committed',\n",
    "    'HFKC':'H_free_kicks_conceded',\n",
    "    'AFKC':'A_free_kicks_conceded',\n",
    "    'HY':'H_yellow_cards',\n",
    "    'AY':'A_yellow_cards',\n",
    "    'HR':'H_red_cards',\n",
    "    'AR':'A_red_cards'\n",
    "}"
   ]
  },
  {
   "cell_type": "code",
   "execution_count": null,
   "metadata": {},
   "outputs": [],
   "source": [
    "columns = ['year', 'goal_difference', 'half_time_goal_difference']\n",
    "for col in list(names.values()):\n",
    "    columns.append(col)"
   ]
  },
  {
   "cell_type": "code",
   "execution_count": null,
   "metadata": {},
   "outputs": [],
   "source": [
    "final = ['year', 'match', 'home', 'OTHER', 'goal_difference', 'half_time_goal_difference']\n",
    "for col in list(names.values())[3:]:\n",
    "    if col[0] == 'H':\n",
    "        final.append(('L' + col[1:]))\n",
    "    elif col[0] == 'A':\n",
    "        final.append(('O' + col[1:]))"
   ]
  },
  {
   "cell_type": "code",
   "execution_count": null,
   "metadata": {},
   "outputs": [],
   "source": [
    "replacing_home = {}\n",
    "replacing_away = {}\n",
    "for col in [c for c in columns if c not in ['goal_difference', 'half_time_goal_difference']]:\n",
    "    if (col == 'AWAY'):\n",
    "        replacing_home['AWAY'] = 'OTHER'\n",
    "        replacing_away['AWAY'] = 'L'\n",
    "    elif (col == 'HOME'):\n",
    "        replacing_home['HOME'] = 'L'\n",
    "        replacing_away['HOME'] = 'OTHER'\n",
    "    else:\n",
    "        if (col[0] == 'H'):\n",
    "            replacing_home[col] = 'L' + col[1:]\n",
    "            replacing_away[col] = 'O' + col[1:]\n",
    "        elif (col[0] == 'A'):\n",
    "            replacing_home[col] = 'O' + col[1:]\n",
    "            replacing_away[col] = 'L' + col[1:]\n",
    "        else:\n",
    "            replacing_home[col] = col\n",
    "            replacing_away[col] = col"
   ]
  },
  {
   "cell_type": "code",
   "execution_count": null,
   "metadata": {
    "scrolled": true
   },
   "outputs": [],
   "source": [
    "dfs = []\n",
    "\n",
    "\n",
    "for url in tqdm(urls[:20]):\n",
    "    try:\n",
    "        year = url.split('/')[4][:2] + '-' + url.split('/')[4][2:4]\n",
    "\n",
    "        response = requests.get(url, headers=get_header(USER_AGENTS))\n",
    "        col_names = pd.read_csv(StringIO(response.text), nrows=0)\n",
    "        data = pd.read_csv(StringIO(response.text), usecols=col_names)\n",
    "\n",
    "        columns_to_use = [col for col in names.keys() if col in data.columns]\n",
    "        data = pd.DataFrame(data[columns_to_use])\n",
    "        data.dropna(axis=0, how='all', inplace=True)\n",
    "\n",
    "        for col in [col for col in names.keys() if col not in columns_to_use]:\n",
    "            data[col] = [np.nan for i in data.index.values]\n",
    "\n",
    "        data.rename(columns=names, inplace=True)\n",
    "\n",
    "        data['year'] = [year for i in data.index.values]\n",
    "        data = data.loc[(data.HOME == 'Liverpool') | (data.AWAY == 'Liverpool')]\n",
    "        \n",
    "        data['home'] = [int(home == 'Liverpool') for home in data.HOME]\n",
    "        home = data.loc[data.home == 1]\n",
    "        away = data.loc[data.home == 0]\n",
    "        home.rename(columns=replacing_home, inplace=True)\n",
    "        away.rename(columns=replacing_away, inplace=True)\n",
    "        \n",
    "        data = pd.concat([home, away], sort=False)\n",
    "        data.drop(columns=['L'], inplace=True)\n",
    "        \n",
    "        data['goal_difference'] = data['L_goals'] - data['O_goals']\n",
    "        data['half_time_goal_difference'] = data['L_half_time_goals'] - data['O_half_time_goals']\n",
    "        \n",
    "        try:\n",
    "            data['date'] = [datetime.strptime(d, '%d/%m/%Y') for d in data.date]\n",
    "        except:\n",
    "            data['date'] = [datetime.strptime(d, '%d/%m/%y') for d in data.date]\n",
    "        data.sort_values(by='date', inplace=True)\n",
    "        data.reset_index(drop=True, inplace=True)\n",
    "        data.drop(columns=['date'], inplace=True)\n",
    "        data['match'] = [i+1 for i in data.index.values]\n",
    "        \n",
    "        data = data[final]\n",
    "        point = 0\n",
    "        data['points'] = [np.nan for i in data.index.values]\n",
    "        for i in data.index.values:\n",
    "            if data.at[i, 'goal_difference'] > 0:\n",
    "                point += 3\n",
    "            elif data.at[i, 'goal_difference'] == 0:\n",
    "                point += 1\n",
    "            data.at[i, 'points'] = point\n",
    "        \n",
    "        dfs.append(data)\n",
    "    except Exception as e:\n",
    "        print(e)\n",
    "        print(urls.index(url), url)"
   ]
  },
  {
   "cell_type": "code",
   "execution_count": null,
   "metadata": {},
   "outputs": [],
   "source": [
    "data = pd.concat(dfs, ignore_index=True)\n",
    "data.dropna(axis=1, how='all', inplace=True)"
   ]
  },
  {
   "cell_type": "code",
   "execution_count": null,
   "metadata": {},
   "outputs": [],
   "source": [
    "data.to_csv('.\\\\Liverpool_football_data.csv', index=False)"
   ]
  }
 ],
 "metadata": {
  "kernelspec": {
   "display_name": "Python 3",
   "language": "python",
   "name": "python3"
  },
  "language_info": {
   "codemirror_mode": {
    "name": "ipython",
    "version": 3
   },
   "file_extension": ".py",
   "mimetype": "text/x-python",
   "name": "python",
   "nbconvert_exporter": "python",
   "pygments_lexer": "ipython3",
   "version": "3.7.5"
  }
 },
 "nbformat": 4,
 "nbformat_minor": 2
}
